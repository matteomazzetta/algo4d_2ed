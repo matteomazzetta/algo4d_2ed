{
  "nbformat": 4,
  "nbformat_minor": 0,
  "metadata": {
    "colab": {
      "name": "Copy of A4D2E; 03; Colab Examples.ipynb",
      "provenance": []
    },
    "kernelspec": {
      "name": "python3",
      "display_name": "Python 3"
    }
  },
  "cells": [
    {
      "cell_type": "markdown",
      "metadata": {
        "id": "JgC6NhFZeQ21"
      },
      "source": [
        "# This is a **Main** Heading\n",
        "## This is a *Second Level* Heading\n",
        "This is some text."
      ]
    },
    {
      "cell_type": "code",
      "metadata": {
        "id": "rLZa5aijCQzY",
        "colab": {
          "base_uri": "https://localhost:8080/"
        },
        "outputId": "f7460bf2-937a-4968-956c-dfdb6260df93"
      },
      "source": [
        "print(\"Hello There!\")"
      ],
      "execution_count": 1,
      "outputs": [
        {
          "output_type": "stream",
          "name": "stdout",
          "text": [
            "Hello There!\n"
          ]
        }
      ]
    },
    {
      "cell_type": "code",
      "source": [
        "print('sono matteo')"
      ],
      "metadata": {
        "id": "OVTZrAgUCTfs",
        "outputId": "3d04b1be-8eaa-4845-8242-75a43299c4af",
        "colab": {
          "base_uri": "https://localhost:8080/"
        }
      },
      "execution_count": 2,
      "outputs": [
        {
          "output_type": "stream",
          "name": "stdout",
          "text": [
            "sono matteo\n"
          ]
        }
      ]
    },
    {
      "cell_type": "code",
      "source": [
        "import pandas as pd"
      ],
      "metadata": {
        "id": "osLL6p_OC_Je"
      },
      "execution_count": 3,
      "outputs": []
    }
  ]
}