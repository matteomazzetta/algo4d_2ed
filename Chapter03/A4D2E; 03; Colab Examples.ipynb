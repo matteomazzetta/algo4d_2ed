{
  "nbformat": 4,
  "nbformat_minor": 0,
  "metadata": {
    "colab": {
      "name": "Copy of A4D2E; 03; Colab Examples.ipynb",
      "provenance": []
    },
    "kernelspec": {
      "name": "python3",
      "display_name": "Python 3"
    }
  },
  "cells": [
    {
      "cell_type": "markdown",
      "metadata": {
        "id": "JgC6NhFZeQ21"
      },
      "source": [
        "# This is a **Main** Heading\n",
        "## This is a *Second Level* Heading\n",
        "This is some text."
      ]
    },
    {
      "cell_type": "code",
      "metadata": {
        "id": "rLZa5aijCQzY",
        "colab": {
          "base_uri": "https://localhost:8080/"
        },
        "outputId": "f7460bf2-937a-4968-956c-dfdb6260df93"
      },
      "source": [
        "print(\"Hello There!\")"
      ],
      "execution_count": 1,
      "outputs": [
        {
          "output_type": "stream",
          "name": "stdout",
          "text": [
            "Hello There!\n"
          ]
        }
      ]
    }
  ]
}